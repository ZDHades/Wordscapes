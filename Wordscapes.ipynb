{
 "cells": [
  {
   "cell_type": "code",
   "execution_count": 1,
   "metadata": {},
   "outputs": [],
   "source": [
    "# Import our packages\n",
    "import random, requests, string\n",
    "from IPython.display import clear_output\n",
    "from pprint import pprint\n",
    "\n",
    "# make a quick list of the alphabet to pull from later\n",
    "all_letters = list(string.ascii_lowercase)\n",
    "\n",
    "# set up the game function with an argument for how many letters you want to play with\n",
    "def Game(a):\n",
    "#   set some game variables\n",
    "    score = 0\n",
    "    correct_words = []\n",
    "    incorrect_words = []\n",
    "    incorrect_attempts = 0\n",
    "    game_letters = []\n",
    "    guess = \"\"\n",
    "#   Make a list of our selected characters\n",
    "    for _ in range(a):\n",
    "        game_letters.append(random.choice(all_letters))\n",
    "    game_test = set(game_letters)\n",
    "#   Setup the loop where the game will happen\n",
    "    while incorrect_attempts < 12:\n",
    "        clear_output()\n",
    "#       Create the output layout\n",
    "        print(\"=\"*25)\n",
    "        pprint(f\"Your {len(correct_words)} correct guesses {correct_words}\")\n",
    "        print(\"=\"*25)\n",
    "        pprint(f\"Your {len(incorrect_words)} incorrect guesses {incorrect_words}\")\n",
    "        print(\"=\"*25)\n",
    "        print(f\"{12-incorrect_attempts} attempts left\")\n",
    "        print(\"=\"*25)\n",
    "        print(f\"Letters to use {game_letters}\")\n",
    "        print(\"=\"*25)\n",
    "        print(f\"Your score is {score} points\")\n",
    "        print('='*25)\n",
    "#       Verify the players guesses as using the valid letters, and add a quit command\n",
    "        checking = True\n",
    "        while checking:\n",
    "            guess = input(\"Enter a guess or enter 'quit' to end the game and bank in your score!\").lower()\n",
    "            if guess not in correct_words and guess not in incorrect_words:\n",
    "                if guess == \"quit\":\n",
    "                    pprint(f\"On a {a} letter game, you scored {score} points! You had {incorrect_attempts} incorrect attempts and these are your correct words {correct_words}\")\n",
    "                    incorrect_attempts = 100\n",
    "                    checking = False\n",
    "                    break\n",
    "                else:\n",
    "                    test_guess = guess\n",
    "                    if set(test_guess).issubset(game_test):\n",
    "                        checking = False\n",
    "                    else:\n",
    "                        print(\"Your word can only include the given letters\")\n",
    "#       Check if the guess is a real word\n",
    "        r = requests.get(f'https://www.dictionary.com/browse/{guess}?s=ts')\n",
    "        if r.status_code == 200:\n",
    "            print(\"You guessed a valid word!\")\n",
    "            correct_words.append(guess)\n",
    "            score += len(guess)\n",
    "        else:\n",
    "            print(\"You guessed an invalid word!\")\n",
    "            incorrect_words.append(guess)\n",
    "            score -= len(guess)\n",
    "            incorrect_attempts += 1\n",
    "#   Final output if the player runs out of attempts\n",
    "    pprint(f\"On a {a} letter game, you scored {score} points! You had {incorrect_attempts} incorrect attempts and these are your correct words {correct_words}\")\n"
   ]
  },
  {
   "cell_type": "code",
   "execution_count": null,
   "metadata": {},
   "outputs": [],
   "source": [
    "Game(5)"
   ]
  }
 ],
 "metadata": {
  "kernelspec": {
   "display_name": "Python 3",
   "language": "python",
   "name": "python3"
  },
  "language_info": {
   "codemirror_mode": {
    "name": "ipython",
    "version": 3
   },
   "file_extension": ".py",
   "mimetype": "text/x-python",
   "name": "python",
   "nbconvert_exporter": "python",
   "pygments_lexer": "ipython3",
   "version": "3.8.3"
  }
 },
 "nbformat": 4,
 "nbformat_minor": 4
}
